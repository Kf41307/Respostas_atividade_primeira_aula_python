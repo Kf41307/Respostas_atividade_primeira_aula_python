{
 "cells": [
  {
   "cell_type": "code",
   "execution_count": null,
   "id": "586f5edf",
   "metadata": {},
   "outputs": [],
   "source": [
    "((5 * (10-4)**2) / (3**3 + 2)) - 1"
   ]
  }
 ],
 "metadata": {
  "language_info": {
   "name": "python"
  }
 },
 "nbformat": 4,
 "nbformat_minor": 5
}
