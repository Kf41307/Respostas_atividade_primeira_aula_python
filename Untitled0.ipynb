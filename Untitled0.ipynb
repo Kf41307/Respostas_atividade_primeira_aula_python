{
  "nbformat": 4,
  "nbformat_minor": 0,
  "metadata": {
    "colab": {
      "provenance": []
    },
    "kernelspec": {
      "name": "python3",
      "display_name": "Python 3"
    },
    "language_info": {
      "name": "python"
    }
  },
  "cells": [
    {
      "cell_type": "code",
      "execution_count": null,
      "metadata": {
        "id": "zugFGsGKt1Za"
      },
      "outputs": [],
      "source": [
        "((5 * (10-4)**2) / (3**3 + 2)) - 1"
      ]
    },
    {
      "cell_type": "markdown",
      "source": [
        "Resposta número 1"
      ],
      "metadata": {
        "id": "Fvkh1W_it_TM"
      }
    },
    {
      "cell_type": "code",
      "source": [
        "(((8-2)**2) + ((11-3)**2))"
      ],
      "metadata": {
        "id": "mZU5YUihuDQT"
      },
      "execution_count": null,
      "outputs": []
    },
    {
      "cell_type": "markdown",
      "source": [
        "Resposta número 2"
      ],
      "metadata": {
        "id": "K8NbWp6DuitC"
      }
    },
    {
      "cell_type": "code",
      "source": [
        "  (7 * 3 + 8.5 * 5 + 6 * 2) / (3+5+2)"
      ],
      "metadata": {
        "id": "t5IFvkXCukyL"
      },
      "execution_count": null,
      "outputs": []
    },
    {
      "cell_type": "markdown",
      "source": [
        "Resposta número 3"
      ],
      "metadata": {
        "id": "rLbW9k2_vUcK"
      }
    }
  ]
}